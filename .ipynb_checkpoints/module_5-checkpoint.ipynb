{
 "cells": [
  {
   "cell_type": "code",
   "execution_count": 1,
   "metadata": {},
   "outputs": [],
   "source": [
    "import pandas as pd\n",
    "import numpy as np\n",
    "%matplotlib inline\n",
    "import matplotlib.pyplot as plt\n",
    "import seaborn as sns\n",
    "sns.set_style('darkgrid')\n",
    "from sklearn.metrics.classification import accuracy_score, log_loss\n",
    "from warnings import simplefilter\n",
    "\n",
    "simplefilter(action='ignore', category=FutureWarning)"
   ]
  },
  {
   "cell_type": "code",
   "execution_count": 37,
   "metadata": {},
   "outputs": [
    {
     "data": {
      "text/html": [
       "<div>\n",
       "<style scoped>\n",
       "    .dataframe tbody tr th:only-of-type {\n",
       "        vertical-align: middle;\n",
       "    }\n",
       "\n",
       "    .dataframe tbody tr th {\n",
       "        vertical-align: top;\n",
       "    }\n",
       "\n",
       "    .dataframe thead th {\n",
       "        text-align: right;\n",
       "    }\n",
       "</style>\n",
       "<table border=\"1\" class=\"dataframe\">\n",
       "  <thead>\n",
       "    <tr style=\"text-align: right;\">\n",
       "      <th></th>\n",
       "      <th>Date</th>\n",
       "      <th>Close Price</th>\n",
       "      <th>Open Price</th>\n",
       "      <th>High Price</th>\n",
       "      <th>Low Price</th>\n",
       "      <th>Total Traded Quantity</th>\n",
       "      <th>TTQ</th>\n",
       "      <th>Month</th>\n",
       "      <th>Year</th>\n",
       "      <th>PxV</th>\n",
       "      <th>Day_Perc_Change</th>\n",
       "      <th>Trend</th>\n",
       "      <th>Symbol</th>\n",
       "    </tr>\n",
       "  </thead>\n",
       "  <tbody>\n",
       "    <tr>\n",
       "      <th>0</th>\n",
       "      <td>2019-10-24</td>\n",
       "      <td>1780.78</td>\n",
       "      <td>1770.78</td>\n",
       "      <td>1787.97</td>\n",
       "      <td>1760.78</td>\n",
       "      <td>5.20M</td>\n",
       "      <td>5200000</td>\n",
       "      <td>10</td>\n",
       "      <td>2019</td>\n",
       "      <td>9.260056e+09</td>\n",
       "      <td>0.000000</td>\n",
       "      <td>No Change</td>\n",
       "      <td>AMAZON</td>\n",
       "    </tr>\n",
       "    <tr>\n",
       "      <th>1</th>\n",
       "      <td>2019-10-23</td>\n",
       "      <td>1762.17</td>\n",
       "      <td>1761.30</td>\n",
       "      <td>1770.05</td>\n",
       "      <td>1742.00</td>\n",
       "      <td>2.19M</td>\n",
       "      <td>2190000</td>\n",
       "      <td>10</td>\n",
       "      <td>2019</td>\n",
       "      <td>3.859152e+09</td>\n",
       "      <td>-0.010450</td>\n",
       "      <td>No Change</td>\n",
       "      <td>AMAZON</td>\n",
       "    </tr>\n",
       "    <tr>\n",
       "      <th>2</th>\n",
       "      <td>2019-10-22</td>\n",
       "      <td>1765.73</td>\n",
       "      <td>1788.15</td>\n",
       "      <td>1789.78</td>\n",
       "      <td>1762.00</td>\n",
       "      <td>2.23M</td>\n",
       "      <td>2230000</td>\n",
       "      <td>10</td>\n",
       "      <td>2019</td>\n",
       "      <td>3.937578e+09</td>\n",
       "      <td>0.002020</td>\n",
       "      <td>No Change</td>\n",
       "      <td>AMAZON</td>\n",
       "    </tr>\n",
       "    <tr>\n",
       "      <th>3</th>\n",
       "      <td>2019-10-21</td>\n",
       "      <td>1785.66</td>\n",
       "      <td>1769.66</td>\n",
       "      <td>1785.88</td>\n",
       "      <td>1765.00</td>\n",
       "      <td>2.22M</td>\n",
       "      <td>2220000</td>\n",
       "      <td>10</td>\n",
       "      <td>2019</td>\n",
       "      <td>3.964165e+09</td>\n",
       "      <td>0.011287</td>\n",
       "      <td>No Change</td>\n",
       "      <td>AMAZON</td>\n",
       "    </tr>\n",
       "    <tr>\n",
       "      <th>4</th>\n",
       "      <td>2019-10-18</td>\n",
       "      <td>1757.51</td>\n",
       "      <td>1787.80</td>\n",
       "      <td>1793.98</td>\n",
       "      <td>1749.20</td>\n",
       "      <td>3.37M</td>\n",
       "      <td>3370000</td>\n",
       "      <td>10</td>\n",
       "      <td>2019</td>\n",
       "      <td>5.922809e+09</td>\n",
       "      <td>-0.015764</td>\n",
       "      <td>No Change</td>\n",
       "      <td>AMAZON</td>\n",
       "    </tr>\n",
       "  </tbody>\n",
       "</table>\n",
       "</div>"
      ],
      "text/plain": [
       "         Date  Close Price  Open Price  High Price  Low Price  \\\n",
       "0  2019-10-24      1780.78     1770.78     1787.97    1760.78   \n",
       "1  2019-10-23      1762.17     1761.30     1770.05    1742.00   \n",
       "2  2019-10-22      1765.73     1788.15     1789.78    1762.00   \n",
       "3  2019-10-21      1785.66     1769.66     1785.88    1765.00   \n",
       "4  2019-10-18      1757.51     1787.80     1793.98    1749.20   \n",
       "\n",
       "  Total Traded Quantity      TTQ  Month  Year           PxV  Day_Perc_Change  \\\n",
       "0                 5.20M  5200000     10  2019  9.260056e+09         0.000000   \n",
       "1                 2.19M  2190000     10  2019  3.859152e+09        -0.010450   \n",
       "2                 2.23M  2230000     10  2019  3.937578e+09         0.002020   \n",
       "3                 2.22M  2220000     10  2019  3.964165e+09         0.011287   \n",
       "4                 3.37M  3370000     10  2019  5.922809e+09        -0.015764   \n",
       "\n",
       "       Trend  Symbol  \n",
       "0  No Change  AMAZON  \n",
       "1  No Change  AMAZON  \n",
       "2  No Change  AMAZON  \n",
       "3  No Change  AMAZON  \n",
       "4  No Change  AMAZON  "
      ]
     },
     "execution_count": 37,
     "metadata": {},
     "output_type": "execute_result"
    }
   ],
   "source": [
    "### AMAZON ###\n",
    "\n",
    "df = pd.read_csv('./results/week2.csv')\n",
    "df['Symbol'] = 'AMAZON'\n",
    "df = df.drop(['Unnamed: 0'], axis=1)\n",
    "df.head()"
   ]
  },
  {
   "cell_type": "code",
   "execution_count": 38,
   "metadata": {},
   "outputs": [],
   "source": [
    "def meanDailyReturns(df):\n",
    "    return df['Close Price'].pct_change().dropna().mean()\n",
    "def dailyStd(df):\n",
    "    return df['Close Price'].pct_change().dropna().std()\n",
    "def meanAnnualReturns(df):\n",
    "    return meanDailyReturns(df) * 252\n",
    "def annualStd(df):\n",
    "    return dailyStd(df) * np.sqrt(252)"
   ]
  },
  {
   "cell_type": "code",
   "execution_count": 39,
   "metadata": {},
   "outputs": [],
   "source": [
    "def output(df):\n",
    "    if 'Symbol' in df:\n",
    "        print('Company :\\t {}'.format(df['Symbol'].iloc[1]))\n",
    "    print('Mean daily return :\\t\\t {}'.format(meanDailyReturns(df)))\n",
    "    print('Daily standard deviation :\\t {} '.format(dailyStd(df)))\n",
    "    print('Mean annual return :\\t\\t {}'.format(meanAnnualReturns(df)))\n",
    "    print('Annual standard deviation :\\t {}'.format(annualStd(df)))"
   ]
  },
  {
   "cell_type": "code",
   "execution_count": 40,
   "metadata": {},
   "outputs": [
    {
     "name": "stdout",
     "output_type": "stream",
     "text": [
      "Company :\t AMAZON\n",
      "Mean daily return :\t\t -0.0010076003223422935\n",
      "Daily standard deviation :\t 0.019791922065559995 \n",
      "Mean annual return :\t\t -0.25391528123025797\n",
      "Annual standard deviation :\t 0.31418702252066133\n"
     ]
    }
   ],
   "source": [
    "output(df)"
   ]
  },
  {
   "cell_type": "code",
   "execution_count": 41,
   "metadata": {},
   "outputs": [],
   "source": [
    "df_cipla = pd.read_csv('./data/Large_Cap/CIPLA.csv')\n",
    "df_hero = pd.read_csv('./data/Large_Cap/HEROMOTOCO.csv')\n",
    "df_tata = pd.read_csv('./data/Mid_Cap/TATAPOWER.csv')\n",
    "df_dhfl = pd.read_csv('./data/Mid_Cap/DHFL.csv')\n",
    "df_pvr = pd.read_csv('./data/Small_Cap/PVR.csv')"
   ]
  },
  {
   "cell_type": "code",
   "execution_count": 42,
   "metadata": {},
   "outputs": [
    {
     "name": "stdout",
     "output_type": "stream",
     "text": [
      "Company :\t AMAZON\n",
      "Mean daily return :\t\t -0.0010076003223422935\n",
      "Daily standard deviation :\t 0.019791922065559995 \n",
      "Mean annual return :\t\t -0.25391528123025797\n",
      "Annual standard deviation :\t 0.31418702252066133\n",
      "----------------------------------------------------------------------\n",
      "Company :\t CIPLA\n",
      "Mean daily return :\t\t 4.6701476775483235e-05\n",
      "Daily standard deviation :\t 0.01599678237409395 \n",
      "Mean annual return :\t\t 0.011768772147421775\n",
      "Annual standard deviation :\t 0.25394104763444403\n",
      "----------------------------------------------------------------------\n",
      "Company :\t HEROMOTOCO\n",
      "Mean daily return :\t\t -0.0005696213914633644\n",
      "Daily standard deviation :\t 0.015064453115429437 \n",
      "Mean annual return :\t\t -0.14354459064876784\n",
      "Annual standard deviation :\t 0.23914077948371096\n",
      "----------------------------------------------------------------------\n",
      "Company :\t TATAPOWER\n",
      "Mean daily return :\t\t -0.00039825554161450544\n",
      "Daily standard deviation :\t 0.019418910645784795 \n",
      "Mean annual return :\t\t -0.10036039648685537\n",
      "Annual standard deviation :\t 0.30826564980318755\n",
      "----------------------------------------------------------------------\n",
      "Company :\t DHFL\n",
      "Mean daily return :\t\t 0.14798157178451057\n",
      "Daily standard deviation :\t 0.8823733046668715 \n",
      "Mean annual return :\t\t 37.29135608969666\n",
      "Annual standard deviation :\t 14.007241966024624\n",
      "----------------------------------------------------------------------\n",
      "Company :\t PVR\n",
      "Mean daily return :\t\t 0.00043995169495582303\n",
      "Daily standard deviation :\t 0.01952144353294041 \n",
      "Mean annual return :\t\t 0.1108678271288674\n",
      "Annual standard deviation :\t 0.3098933089269028\n",
      "----------------------------------------------------------------------\n"
     ]
    }
   ],
   "source": [
    "l=[df,df_cipla,df_hero,df_tata,df_dhfl, df_pvr]\n",
    "for i in l:\n",
    "    output(i)\n",
    "    print('-'*70)"
   ]
  },
  {
   "cell_type": "code",
   "execution_count": 44,
   "metadata": {},
   "outputs": [
    {
     "data": {
      "text/html": [
       "<div>\n",
       "<style scoped>\n",
       "    .dataframe tbody tr th:only-of-type {\n",
       "        vertical-align: middle;\n",
       "    }\n",
       "\n",
       "    .dataframe tbody tr th {\n",
       "        vertical-align: top;\n",
       "    }\n",
       "\n",
       "    .dataframe thead th {\n",
       "        text-align: right;\n",
       "    }\n",
       "</style>\n",
       "<table border=\"1\" class=\"dataframe\">\n",
       "  <thead>\n",
       "    <tr style=\"text-align: right;\">\n",
       "      <th></th>\n",
       "      <th>AMAZON</th>\n",
       "      <th>CIPLA</th>\n",
       "      <th>HEROMOTOCO</th>\n",
       "      <th>TATAPOWER</th>\n",
       "      <th>DHFL</th>\n",
       "      <th>PVR</th>\n",
       "    </tr>\n",
       "  </thead>\n",
       "  <tbody>\n",
       "    <tr>\n",
       "      <th>0</th>\n",
       "      <td>1780.78</td>\n",
       "      <td>569.00</td>\n",
       "      <td>3515.45</td>\n",
       "      <td>83.55</td>\n",
       "      <td>431.4</td>\n",
       "      <td>1524.95</td>\n",
       "    </tr>\n",
       "    <tr>\n",
       "      <th>1</th>\n",
       "      <td>1762.17</td>\n",
       "      <td>565.60</td>\n",
       "      <td>3619.40</td>\n",
       "      <td>83.85</td>\n",
       "      <td>1009.9</td>\n",
       "      <td>1539.00</td>\n",
       "    </tr>\n",
       "    <tr>\n",
       "      <th>2</th>\n",
       "      <td>1765.73</td>\n",
       "      <td>562.35</td>\n",
       "      <td>3645.95</td>\n",
       "      <td>85.35</td>\n",
       "      <td>1055.2</td>\n",
       "      <td>1530.30</td>\n",
       "    </tr>\n",
       "    <tr>\n",
       "      <th>3</th>\n",
       "      <td>1785.66</td>\n",
       "      <td>560.10</td>\n",
       "      <td>3592.05</td>\n",
       "      <td>83.75</td>\n",
       "      <td>1070.0</td>\n",
       "      <td>1515.05</td>\n",
       "    </tr>\n",
       "    <tr>\n",
       "      <th>4</th>\n",
       "      <td>1757.51</td>\n",
       "      <td>564.95</td>\n",
       "      <td>3571.65</td>\n",
       "      <td>84.15</td>\n",
       "      <td>1050.0</td>\n",
       "      <td>1513.55</td>\n",
       "    </tr>\n",
       "  </tbody>\n",
       "</table>\n",
       "</div>"
      ],
      "text/plain": [
       "    AMAZON   CIPLA  HEROMOTOCO  TATAPOWER    DHFL      PVR\n",
       "0  1780.78  569.00     3515.45      83.55   431.4  1524.95\n",
       "1  1762.17  565.60     3619.40      83.85  1009.9  1539.00\n",
       "2  1765.73  562.35     3645.95      85.35  1055.2  1530.30\n",
       "3  1785.66  560.10     3592.05      83.75  1070.0  1515.05\n",
       "4  1757.51  564.95     3571.65      84.15  1050.0  1513.55"
      ]
     },
     "execution_count": 44,
     "metadata": {},
     "output_type": "execute_result"
    }
   ],
   "source": [
    "portfolio = pd.DataFrame()\n",
    "for i in l:\n",
    "    portfolio[ '{}'.format(i['Symbol'].iloc[1]) ] = i['Close Price']\n",
    "portfolio.head()"
   ]
  },
  {
   "cell_type": "code",
   "execution_count": 46,
   "metadata": {},
   "outputs": [
    {
     "data": {
      "text/plain": [
       "4.569585041047831"
      ]
     },
     "execution_count": 46,
     "metadata": {},
     "output_type": "execute_result"
    }
   ],
   "source": [
    "equal_weights = np.full( portfolio.shape[1], 1/portfolio.shape[1])\n",
    "def annual_returns(portfolio, weights):\n",
    "    return  np.sum(portfolio.pct_change().mean() * weights ) * 252\n",
    "annual_returns(portfolio, equal_weights)"
   ]
  },
  {
   "cell_type": "code",
   "execution_count": 47,
   "metadata": {},
   "outputs": [
    {
     "data": {
      "text/html": [
       "<div>\n",
       "<style scoped>\n",
       "    .dataframe tbody tr th:only-of-type {\n",
       "        vertical-align: middle;\n",
       "    }\n",
       "\n",
       "    .dataframe tbody tr th {\n",
       "        vertical-align: top;\n",
       "    }\n",
       "\n",
       "    .dataframe thead th {\n",
       "        text-align: right;\n",
       "    }\n",
       "</style>\n",
       "<table border=\"1\" class=\"dataframe\">\n",
       "  <thead>\n",
       "    <tr style=\"text-align: right;\">\n",
       "      <th></th>\n",
       "      <th>AMAZON</th>\n",
       "      <th>CIPLA</th>\n",
       "      <th>HEROMOTOCO</th>\n",
       "      <th>TATAPOWER</th>\n",
       "      <th>DHFL</th>\n",
       "      <th>PVR</th>\n",
       "    </tr>\n",
       "  </thead>\n",
       "  <tbody>\n",
       "    <tr>\n",
       "      <th>AMAZON</th>\n",
       "      <td>0.000392</td>\n",
       "      <td>0.000012</td>\n",
       "      <td>0.000035</td>\n",
       "      <td>-0.000027</td>\n",
       "      <td>0.000384</td>\n",
       "      <td>-0.000009</td>\n",
       "    </tr>\n",
       "    <tr>\n",
       "      <th>CIPLA</th>\n",
       "      <td>0.000012</td>\n",
       "      <td>0.000252</td>\n",
       "      <td>0.000047</td>\n",
       "      <td>0.000076</td>\n",
       "      <td>0.000174</td>\n",
       "      <td>0.000032</td>\n",
       "    </tr>\n",
       "    <tr>\n",
       "      <th>HEROMOTOCO</th>\n",
       "      <td>0.000035</td>\n",
       "      <td>0.000047</td>\n",
       "      <td>0.000223</td>\n",
       "      <td>0.000060</td>\n",
       "      <td>0.000261</td>\n",
       "      <td>0.000031</td>\n",
       "    </tr>\n",
       "    <tr>\n",
       "      <th>TATAPOWER</th>\n",
       "      <td>-0.000027</td>\n",
       "      <td>0.000076</td>\n",
       "      <td>0.000060</td>\n",
       "      <td>0.000371</td>\n",
       "      <td>-0.000418</td>\n",
       "      <td>0.000029</td>\n",
       "    </tr>\n",
       "    <tr>\n",
       "      <th>DHFL</th>\n",
       "      <td>0.000384</td>\n",
       "      <td>0.000174</td>\n",
       "      <td>0.000261</td>\n",
       "      <td>-0.000418</td>\n",
       "      <td>0.280328</td>\n",
       "      <td>0.000298</td>\n",
       "    </tr>\n",
       "    <tr>\n",
       "      <th>PVR</th>\n",
       "      <td>-0.000009</td>\n",
       "      <td>0.000032</td>\n",
       "      <td>0.000031</td>\n",
       "      <td>0.000029</td>\n",
       "      <td>0.000298</td>\n",
       "      <td>0.000375</td>\n",
       "    </tr>\n",
       "  </tbody>\n",
       "</table>\n",
       "</div>"
      ],
      "text/plain": [
       "              AMAZON     CIPLA  HEROMOTOCO  TATAPOWER      DHFL       PVR\n",
       "AMAZON      0.000392  0.000012    0.000035  -0.000027  0.000384 -0.000009\n",
       "CIPLA       0.000012  0.000252    0.000047   0.000076  0.000174  0.000032\n",
       "HEROMOTOCO  0.000035  0.000047    0.000223   0.000060  0.000261  0.000031\n",
       "TATAPOWER  -0.000027  0.000076    0.000060   0.000371 -0.000418  0.000029\n",
       "DHFL        0.000384  0.000174    0.000261  -0.000418  0.280328  0.000298\n",
       "PVR        -0.000009  0.000032    0.000031   0.000029  0.000298  0.000375"
      ]
     },
     "execution_count": 47,
     "metadata": {},
     "output_type": "execute_result"
    }
   ],
   "source": [
    "portfolio_cv = portfolio.pct_change().cov()\n",
    "portfolio_cv"
   ]
  },
  {
   "cell_type": "code",
   "execution_count": 49,
   "metadata": {},
   "outputs": [
    {
     "data": {
      "text/plain": [
       "0.3538256494570958"
      ]
     },
     "execution_count": 49,
     "metadata": {},
     "output_type": "execute_result"
    }
   ],
   "source": [
    "def annual_volatility( portfolio, weights ): \n",
    "    return np.sqrt(np.dot(weights.T, np.dot( portfolio_cv, weights )) * np.sqrt(252))\n",
    "annual_volatility(portfolio, equal_weights)"
   ]
  },
  {
   "cell_type": "code",
   "execution_count": 51,
   "metadata": {},
   "outputs": [
    {
     "data": {
      "text/plain": [
       "12.914793057143612"
      ]
     },
     "execution_count": 51,
     "metadata": {},
     "output_type": "execute_result"
    }
   ],
   "source": [
    "def portfolio_sharpe( portfolio, weights ): \n",
    "    return portfolio_annual_returns( portfolio, weights ) /annual_volatility( portfolio, weights )\n",
    "portfolio_sharpe(portfolio, equal_weights)"
   ]
  },
  {
   "cell_type": "code",
   "execution_count": 52,
   "metadata": {},
   "outputs": [
    {
     "data": {
      "text/plain": [
       "array([0.245, 0.039, 0.123, 0.309, 0.217, 0.067])"
      ]
     },
     "execution_count": 52,
     "metadata": {},
     "output_type": "execute_result"
    }
   ],
   "source": [
    "def normalize_weights( weights ):\n",
    "    for i in range(0,3):\n",
    "        weights  = np.round( weights, 3 ) \n",
    "        weights /= weights.sum()\n",
    "    return np.asarray(weights)\n",
    "    \n",
    "def random_weights():\n",
    "    weights  = np.random.rand(portfolio.shape[1])\n",
    "    return normalize_weights( weights )\n",
    "\n",
    "random_weights()"
   ]
  },
  {
   "cell_type": "code",
   "execution_count": 54,
   "metadata": {
    "scrolled": true
   },
   "outputs": [
    {
     "data": {
      "text/html": [
       "<div>\n",
       "<style scoped>\n",
       "    .dataframe tbody tr th:only-of-type {\n",
       "        vertical-align: middle;\n",
       "    }\n",
       "\n",
       "    .dataframe tbody tr th {\n",
       "        vertical-align: top;\n",
       "    }\n",
       "\n",
       "    .dataframe thead th {\n",
       "        text-align: right;\n",
       "    }\n",
       "</style>\n",
       "<table border=\"1\" class=\"dataframe\">\n",
       "  <thead>\n",
       "    <tr style=\"text-align: right;\">\n",
       "      <th></th>\n",
       "      <th>returns</th>\n",
       "      <th>sharpe</th>\n",
       "      <th>volatility</th>\n",
       "      <th>weights</th>\n",
       "    </tr>\n",
       "  </thead>\n",
       "  <tbody>\n",
       "    <tr>\n",
       "      <th>0</th>\n",
       "      <td>1.377379</td>\n",
       "      <td>11.786156</td>\n",
       "      <td>0.116864</td>\n",
       "      <td>[0.05, 0.044, 0.085, 0.48, 0.051, 0.29]</td>\n",
       "    </tr>\n",
       "    <tr>\n",
       "      <th>1</th>\n",
       "      <td>7.735838</td>\n",
       "      <td>13.076363</td>\n",
       "      <td>0.591589</td>\n",
       "      <td>[0.097, 0.125, 0.102, 0.246, 0.28, 0.15]</td>\n",
       "    </tr>\n",
       "    <tr>\n",
       "      <th>2</th>\n",
       "      <td>4.981892</td>\n",
       "      <td>13.006729</td>\n",
       "      <td>0.383024</td>\n",
       "      <td>[0.05494505494505494, 0.24175824175824173, 0.0...</td>\n",
       "    </tr>\n",
       "    <tr>\n",
       "      <th>3</th>\n",
       "      <td>6.150002</td>\n",
       "      <td>13.050069</td>\n",
       "      <td>0.471262</td>\n",
       "      <td>[0.15215215215215214, 0.26326326326326327, 0.1...</td>\n",
       "    </tr>\n",
       "    <tr>\n",
       "      <th>4</th>\n",
       "      <td>9.867454</td>\n",
       "      <td>13.075593</td>\n",
       "      <td>0.754647</td>\n",
       "      <td>[0.132, 0.104, 0.23, 0.04, 0.357, 0.137]</td>\n",
       "    </tr>\n",
       "  </tbody>\n",
       "</table>\n",
       "</div>"
      ],
      "text/plain": [
       "    returns     sharpe  volatility  \\\n",
       "0  1.377379  11.786156    0.116864   \n",
       "1  7.735838  13.076363    0.591589   \n",
       "2  4.981892  13.006729    0.383024   \n",
       "3  6.150002  13.050069    0.471262   \n",
       "4  9.867454  13.075593    0.754647   \n",
       "\n",
       "                                             weights  \n",
       "0            [0.05, 0.044, 0.085, 0.48, 0.051, 0.29]  \n",
       "1           [0.097, 0.125, 0.102, 0.246, 0.28, 0.15]  \n",
       "2  [0.05494505494505494, 0.24175824175824173, 0.0...  \n",
       "3  [0.15215215215215214, 0.26326326326326327, 0.1...  \n",
       "4           [0.132, 0.104, 0.23, 0.04, 0.357, 0.137]  "
      ]
     },
     "execution_count": 54,
     "metadata": {},
     "output_type": "execute_result"
    }
   ],
   "source": [
    "scatter_data = pd.DataFrame()\n",
    "for i in range(0, 2500):\n",
    "    weights    = random_weights()\n",
    "    returns    = annual_returns(    portfolio, weights )\n",
    "    volatility = annual_volatility( portfolio, weights )\n",
    "    sharpe     = returns / volatility\n",
    "    scatter_data = scatter_data.append([{\n",
    "        \"weights\":    weights,\n",
    "        \"returns\":    returns,\n",
    "        \"volatility\": volatility,\n",
    "        \"sharpe\":     sharpe\n",
    "    }])\n",
    "scatter_data.reset_index(inplace=True, drop=True)\n",
    "scatter_data.head()"
   ]
  },
  {
   "cell_type": "code",
   "execution_count": 55,
   "metadata": {},
   "outputs": [
    {
     "data": {
      "text/plain": [
       "returns                                             -0.00317895\n",
       "sharpe                                                -0.084139\n",
       "volatility                                            0.0377821\n",
       "weights       [0.22522522522522526, 0.1751751751751752, 0.23...\n",
       "Name: 215, dtype: object"
      ]
     },
     "execution_count": 55,
     "metadata": {},
     "output_type": "execute_result"
    }
   ],
   "source": [
    "point_min_volatility = scatter_data.loc[ scatter_data['volatility'].idxmin() ]\n",
    "point_min_volatility"
   ]
  },
  {
   "cell_type": "code",
   "execution_count": 56,
   "metadata": {},
   "outputs": [
    {
     "data": {
      "text/plain": [
       "returns                                                 10.2667\n",
       "sharpe                                                  13.1818\n",
       "volatility                                              0.77885\n",
       "weights       [0.003996003996003996, 0.13286713286713286, 0....\n",
       "Name: 399, dtype: object"
      ]
     },
     "execution_count": 56,
     "metadata": {},
     "output_type": "execute_result"
    }
   ],
   "source": [
    "point_max_sharpe = scatter_data.loc[ scatter_data['sharpe'].idxmax()     ]\n",
    "point_max_sharpe"
   ]
  },
  {
   "cell_type": "code",
   "execution_count": 57,
   "metadata": {},
   "outputs": [
    {
     "data": {
      "text/plain": [
       "<matplotlib.collections.PathCollection at 0x7f381eeb5240>"
      ]
     },
     "execution_count": 57,
     "metadata": {},
     "output_type": "execute_result"
    },
    {
     "data": {
      "image/png": "[encoded data removed]",
      "text/plain": [
       "<Figure size 1440x720 with 2 Axes>"
      ]
     },
     "metadata": {
      "needs_background": "light"
     },
     "output_type": "display_data"
    }
   ],
   "source": [
    "fig, ax = plt.subplots(figsize=(20, 10), nrows=1, ncols=1)\n",
    "plt.scatter( \n",
    "    scatter_data.volatility,     \n",
    "    scatter_data.returns, \n",
    "    c = scatter_data.sharpe\n",
    ")\n",
    "plt.title('Portfolio')\n",
    "plt.ylabel('Annualized Return')\n",
    "plt.xlabel('Annualized Volatility')\n",
    "plt.colorbar()\n",
    "plt.scatter( point_max_sharpe.volatility,     point_max_sharpe.returns, c='b',s=200)\n",
    "plt.scatter( point_min_volatility.volatility, point_min_volatility.returns, c='r',s=200)"
   ]
  },
  {
   "cell_type": "code",
   "execution_count": null,
   "metadata": {},
   "outputs": [],
   "source": []
  }
 ],
 "metadata": {
  "kernelspec": {
   "display_name": "Python 3",
   "language": "python",
   "name": "python3"
  },
  "language_info": {
   "codemirror_mode": {
    "name": "ipython",
    "version": 3
   },
   "file_extension": ".py",
   "mimetype": "text/x-python",
   "name": "python",
   "nbconvert_exporter": "python",
   "pygments_lexer": "ipython3",
   "version": "3.5.2"
  }
 },
 "nbformat": 4,
 "nbformat_minor": 2
}
